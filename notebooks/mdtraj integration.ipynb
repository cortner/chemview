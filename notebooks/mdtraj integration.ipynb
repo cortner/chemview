{
 "cells": [
  {
   "cell_type": "markdown",
   "metadata": {},
   "source": [
    "Viewing stuff in chemview is fairly easy. But since it deals only with visualization we will use another program (mdtraj) to pull data from the web. This is a protein."
   ]
  },
  {
   "cell_type": "code",
   "execution_count": 3,
   "metadata": {
    "collapsed": false
   },
   "outputs": [
    {
     "name": "stdout",
     "output_type": "stream",
     "text": [
      "<mdtraj.Trajectory with 30 frames, 4462 atoms, 292 residues, and unitcells>\n"
     ]
    }
   ],
   "source": [
    "import mdtraj as md\n",
    "traj = md.load_pdb('../tests/data/2M6K.pdb')\n",
    "print(traj)"
   ]
  },
  {
   "cell_type": "markdown",
   "metadata": {},
   "source": [
    "Chemview provides a class MolecularViewer and helpers to let you easily display the protein using a cylinder and strand representation."
   ]
  },
  {
   "cell_type": "code",
   "execution_count": 4,
   "metadata": {
    "collapsed": false
   },
   "outputs": [
    {
     "name": "stderr",
     "output_type": "stream",
     "text": [
      "/home/gabriele/anaconda/envs/chemview/lib/python3.5/site-packages/traitlets/traitlets.py:458: FutureWarning: comparison to `None` will result in an elementwise object comparison in the future.\n",
      "  silent = bool(old_value == new_value)\n"
     ]
    }
   ],
   "source": [
    "from chemview import MolecularViewer, enable_notebook\n",
    "from chemview.contrib import topology_mdtraj\n",
    "enable_notebook()\n",
    "\n",
    "mv = MolecularViewer(traj.xyz[0], topology_mdtraj(traj))\n",
    "# mv.cylinder_and_strand()\n",
    "mv.cartoon()\n",
    "mv"
   ]
  },
  {
   "cell_type": "code",
   "execution_count": 5,
   "metadata": {
    "collapsed": false
   },
   "outputs": [],
   "source": [
    "from chemview.export import display_static\n",
    "\n",
    "display_static(mv)"
   ]
  },
  {
   "cell_type": "code",
   "execution_count": null,
   "metadata": {
    "collapsed": false
   },
   "outputs": [],
   "source": []
  }
 ],
 "metadata": {
  "kernelspec": {
   "display_name": "Python 3",
   "language": "python",
   "name": "python3"
  },
  "language_info": {
   "codemirror_mode": {
    "name": "ipython",
    "version": 3
   },
   "file_extension": ".py",
   "mimetype": "text/x-python",
   "name": "python",
   "nbconvert_exporter": "python",
   "pygments_lexer": "ipython3",
   "version": "3.5.1"
  }
 },
 "nbformat": 4,
 "nbformat_minor": 0
}
