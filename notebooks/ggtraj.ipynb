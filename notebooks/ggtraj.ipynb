{
 "cells": [
  {
   "cell_type": "code",
   "execution_count": 33,
   "metadata": {
    "collapsed": false
   },
   "outputs": [],
   "source": [
    "from chemview.gg import *\n",
    "from chemview.install import enable_notebook\n",
    "import numpy as np\n",
    "enable_notebook()"
   ]
  },
  {
   "cell_type": "code",
   "execution_count": 34,
   "metadata": {
    "collapsed": false
   },
   "outputs": [],
   "source": [
    "%matplotlib inline"
   ]
  },
  {
   "cell_type": "code",
   "execution_count": 39,
   "metadata": {
    "collapsed": false
   },
   "outputs": [
    {
     "data": {
      "text/plain": [
       "(<chemview.widget.TrajectoryControls at 0x7fcf404556a0>,\n",
       " <chemview.widget.RepresentationViewer at 0x7fcf404556d8>)"
      ]
     },
     "execution_count": 39,
     "metadata": {},
     "output_type": "execute_result"
    }
   ],
   "source": [
    "xyz = np.random.rand(10, 10, 3)\n",
    "colors = (np.random.rand(10, 10) * 2**32).astype('int')\n",
    "\n",
    "gg = ggtraj(10, Aes(xyz_traj=xyz, colors=[\"Cl\"] * 10)) + GeomPoints()\n",
    "gg.display()\n",
    "#t, mm = gg.display()\n",
    "#t.attach(\"fullscreen\", mm)"
   ]
  },
  {
   "cell_type": "code",
   "execution_count": 36,
   "metadata": {
    "collapsed": false
   },
   "outputs": [
    {
     "data": {
      "image/png": "[encoded data removed]",
      "text/plain": [
       "<IPython.core.display.Image object>"
      ]
     },
     "metadata": {},
     "output_type": "display_data"
    },
    {
     "data": {
      "image/png": "[encoded data removed]",
      "text/plain": [
       "<matplotlib.figure.Figure at 0x7fcf404fb5f8>"
      ]
     },
     "metadata": {},
     "output_type": "display_data"
    }
   ],
   "source": [
    "xyz = np.random.rand(10, 10, 3)\n",
    "colors_traj = (np.random.rand(10, 10) * 2**32).astype('int')\n",
    "#colors = np.arange(10).astype('float')\n",
    "\n",
    "gg = ggtraj(10, Aes(xyz_traj=xyz, colors_traj=colors_traj)) + GeomPoints() + ScaleColorsGradient(limits=[0, 5], palette=\"viridis\")\n",
    "\n",
    "t, mm = gg.display()"
   ]
  }
 ],
 "metadata": {
  "kernelspec": {
   "display_name": "Python 3",
   "language": "python",
   "name": "python3"
  },
  "language_info": {
   "codemirror_mode": {
    "name": "ipython",
    "version": 3
   },
   "file_extension": ".py",
   "mimetype": "text/x-python",
   "name": "python",
   "nbconvert_exporter": "python",
   "pygments_lexer": "ipython3",
   "version": "3.5.1"
  }
 },
 "nbformat": 4,
 "nbformat_minor": 0
}
