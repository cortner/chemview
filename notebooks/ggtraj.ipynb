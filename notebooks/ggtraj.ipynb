{
 "cells": [
  {
   "cell_type": "code",
   "execution_count": 1,
   "metadata": {
    "collapsed": true
   },
   "outputs": [],
   "source": [
    "from chemview.gg import *\n",
    "from chemview.install import enable_notebook\n",
    "import numpy as np\n",
    "enable_notebook()"
   ]
  },
  {
   "cell_type": "code",
   "execution_count": 2,
   "metadata": {
    "collapsed": false
   },
   "outputs": [],
   "source": [
    "xyz = np.random.rand(10, 10, 3)\n",
    "colors = (np.random.rand(10, 10) * 2**32).astype('int')\n",
    "\n",
    "gg = ggtraj(10, Aes(xyz_traj=xyz, colors=[\"Cl\"] * 10)) + GeomPoints()\n",
    "\n",
    "#t, mm = gg.display()\n",
    "#t.attach(\"fullscreen\", mm)"
   ]
  },
  {
   "cell_type": "code",
   "execution_count": 3,
   "metadata": {
    "collapsed": false
   },
   "outputs": [
    {
     "name": "stderr",
     "output_type": "stream",
     "text": [
      "/home/gabriele/anaconda/lib/python2.7/site-packages/matplotlib/collections.py:620: FutureWarning: elementwise comparison failed; returning scalar instead, but in the future will perform elementwise comparison\n",
      "  if self._edgecolors == str('face'):\n"
     ]
    },
    {
     "data": {
      "image/png": "[encoded data removed]",
      "text/plain": [
       "<IPython.core.display.Image object>"
      ]
     },
     "metadata": {},
     "output_type": "display_data"
    }
   ],
   "source": [
    "xyz = np.random.rand(10, 10, 3)\n",
    "colors_traj = (np.random.rand(10, 10) * 2**32).astype('int')\n",
    "#colors = np.arange(10).astype('float')\n",
    "\n",
    "gg = ggtraj(10, Aes(xyz_traj=xyz, colors_traj=colors_traj)) + GeomPoints() + ScaleColorsGradient(limits=[0, 5], palette=\"viridis\")\n",
    "\n",
    "t, mm = gg.display()"
   ]
  },
  {
   "cell_type": "code",
   "execution_count": 18,
   "metadata": {
    "collapsed": false
   },
   "outputs": [
    {
     "name": "stdout",
     "output_type": "stream",
     "text": [
      "�PNG\r\n",
      "\u001a\n",
      "\u0000\u0000\u0000\r",
      "IHDR\u0000\u0000\u0003 \u0000\u0000\u0001,\b\u0006\u0000\u0000\u0000;-�:\u0000\u0000\u0000\u0004sBIT\b\b\b\b|\bd�\u0000\u0000\u0000\tpHYs\u0000\u0000\u000fa\u0000\u0000\u000fa\u0001�?�i\u0000\u0000\u001a�IDATx���{��U\u001d",
      "7�������7ڂb\u0015�\b\u0018J5*\u0002\"\u0015c\u000b",
      "J!\"�Ŗ�E��?��Bl�4�!\u0001lP$\u0011M�H�`�}\r",
      " V-�J\u0017\u0010��@��\u0014JK\u0005\n",
      "m����\u0001[f�ϳ�.{v���$$�y��9��u�2�SI)�\u0000\u0000\u0000Ƞ��\u001b\u0000\u0000\u0000\u001a�\u0000\u0002\u0000\u0000d#�\u0000\u0000\u0000�\b \u0000\u0000@6\u0002\b\u0000\u0000��\u0000\u0002\u0000\u0000d#�\u0000\u0000\u0000�\b \u0000\u0000@6\u0002\b\u0000\u0000��\u0000\u0002\u0000\u0000d#�\u0000\u0000\u0000�\b \u0000\u0000@6\u0002\b\u0000\u0000�̀��@GV�\\\u0019�֭��m\u0000\u0000�\u001e",
      "a�ر��~���6J��\u0000�r���ȇ?\u001a;b{oo\u0005\u0000\u0000�\bÆ\r",
      "�g�}�φ�>\u001d",
      "@֭[\u0017;b{\u001c",
      "\u0012����ȝ��7���K�R�i�q�R۹fX�����j�\u0016�ۙ�]�[7�`?�S�ò=G�zբ.�}S��u:�7Eѽ�\\/{s`Q�����;hOu[��ג���T�F��ڬӅ�E�;�^����-�[���g��\u001c",
      "]];\u0015�k���q\u0005k��W�����q\u001d",
      "���\u001c",
      "�:��q����龩h\u001f��s��'ԅq\u0005�նwt=\"*\u0005k׵��j�����^��HE�%s���Z;�nϩ��\u0005kԴW�x�J�\u001c",
      "us��]3G��E��]�Z��N�+�s�|\u0005�k�U��UvԴ��^��^7_��cG��5�쭩f���֟�{כJ~n�s��o�����v�i۵o�\u001c",
      "u{~���l��.8�{-9��{.��Μ�{kGM[���iz�I[�|n�{�U��m/j{g���5�\u0013[۟}~K��ΚX�n�\u0000�\u001d",
      "ͱW�������A�&�T\u000b",
      "�K�C}\u0000����\u0003H�,\u0010\u0014���5�\u001e",
      "��Wr\u001d",
      "�׉��a8(�[W�u*�\u0014�����֎���kw\u0018@:\u0013\u0002�=�N���`�����<ޗ���h��S\u0001��\\��㢠}7�+�W��.�۵O����\u0001����\u001c",
      "@Z�х5j�\u000b",
      "��e\\��>u{�D\u0000�����^e�\u000b",
      "���ݵ����^��u�~P�Lߢ\u0017��};��:_��\u000e\u001e",
      "�����q�����\u0005ng^$�ۧ�\u0013\u0001�~��/��^�\u0017���m/{Q�Q{�zQ{\u0006m�n*\t\tM����M{�Y�:w�\u001c",
      "\u0005kׇ��9�\u0006˺�+\r",
      "Pm\u001fׇ��\u0000�TקRp��\u000e�A�6l����m\u001b4��S-����9;\u0005\u0000\u0000�x\u0002\b\u0000\u0000��\u0000\u0002\u0000\u0000d#�\u0000\u0000\u0000�\b \u0000\u0000@6\u0002\b\u0000\u0000��\u0000\u0002\u0000\u0000d#�\u0000\u0000\u0000�\b \u0000\u0000@6\u0002\b\u0000\u0000��\u0000\u0002\u0000\u0000d#�\u0000\u0000\u0000�\b \u0000\u0000@6\u0002\b\u0000\u0000��\u0000\u0002\u0000\u0000d#�\u0000\u0000\u0000�\b \u0000\u0000@6\u0002\b\u0000\u0000��\u0000\u0002\u0000\u0000d#�\u0000\u0000\u0000�\b \u0000\u0000@6\u0002\b\u0000\u0000��\u0000\u0002\u0000\u0000d#�\u0000\u0000\u0000�\b \u0000\u0000@6\u0002\b\u0000\u0000��\u0000\u0002\u0000\u0000d#�\u0000\u0000\u0000�\b \u0000\u0000@6\u0002\b\u0000\u0000��\u0000\u0002\u0000\u0000d#�\u0000\u0000\u0000�\b \u0000\u0000@6\u0002\b\u0000\u0000��\u0000\u0002\u0000\u0000d#�\u0000\u0000\u0000�\b {���|���Ч�y����B������\u0016���K�O{6,y���Чmx���B���_���\u0016��g�Ϫ��B���\u001f���-�\r",
      "\u0002�\u001e",
      "n�\u0000Ү5/����Ч��\u001f/ ۳~��i��\u0016�Ӟ\r",
      "\u000f?��[��^~���B�����\u0000Ҟ\u0007��foo�n\u0010@\u0000\u0000�l\u0004\u0010\u0000\u0000 \u001b\u0001\u0004\u0000\u0000�f@oo�36ƛ\u0011齬TI�Wk�wT�k��>�i�y\\����ˎ�.�#�Z4o'\u001e",
      "w�oݸ�-����^���\u001c",
      "��~��=G�zբ.�}S��u:�7Eѽ�\\/��E�k��֮Dl��V��Ƌm���[<q*9�¸^�v��ڬӅ�E�;�^����ݾ�������\u0019\u0017�/:�6swa�q��^K\u001f׎+X���:7n��⭗W����.�W��>]��S����v4���kD���ގ�/��T�T�����\u0017~\u0017�\u0015�W������\u0014�]�V�ug�lz;6�����-i����y����\u0019W���A߂5jګQ<o�d���[׮�c׵�m�\u001c",
      "o<��p��kW\u000b",
      "��v��q%{�����jٸʎ���׫������h����96o�\u001a����N{�|�{n����߻�T�s�kw��%���3�Ѧm׾�s�����������߽���\u001d",
      "��3o\u0017�Q������y��vԴ���k��w����禺�]�M�����w֫y\\�:�����D_WI)\u0015�v�\u001bV�\\\u0019\u0007\u001e",
      "x`l���\u000f\u0012\u0000\u0000��A�\u0006���?\u001f��_oo�P�\u000e \u0011u����6\u0000\u0000`�0v��>\u001b>\"��\u0000\u0002\u0000\u0000�\u001f>�\u000e\u0000\u0000d#�\u0000\u0000\u0000�\b \u0000\u0000@6\u0002\b\u0000\u0000�M�\u0000��-��j����b���\u001d",
      "�_�~}\\xᅱ��{����cڴi��\u0013Od�y\u001e",
      "�9��n��t�ڵk3�A\u001e",
      "---q�'Ƙ1c���9>�O�M7����^?�v�|\u001a�~�9��{l��իW�;���OwΧ\u0011�'\"���\u001f��3g�>��\u0013�����<�Ν\u001bo��V�c�{�D���4J�,Y�$�O�\u001e",
      "#G��\u0011#Fė���xꩧ:=���PwΧ?��ƍ\u001b㪫��\u00193fĘ1c�Z��o~�¾˖-��ӧ�^{�\u0015cƌ�Y�fu��>���q�QGEsssL�81.���ظq��u+�z�\b/���ԧ>U�v�\u0001\u0007�;&�\u0014�\u001f|<���q��ǘ1cb����/|!ZZZb�����-g�;�\u0013\u0011Q�Tb�ܹ1iҤ��\u000f|�\u0003���z�}��\u0017'�xbL�:5����\u0018>|x�X�\"V�*�B�\u001a�R?�{>\u0011��~.����җ�TזR��.�(>�я�ĉ\u0013K�6B�t�|\"��<��3q��G�ĉ\u0013��.�ѣG�#�<\u0012W]uU�����w�]:�\u0011�;�\u0013��맥�%�>���o����?�ql߾}g\r",
      ",^�8\u000e<��v���\u001a���D�\u001aZ�n]̝;7>��\u000fǔ)Sb�",
      "��^|��8��cԨQ1o޼x��7�뮋g�y&\u0016/^\u001c",
      "\u0003\u0006��2��'���;.\u000e>�����cժUq�u�������{��;��2[�pa�T*��;�����o�=U*�t�]w�l{�WҨQ�ҙg��~n��t�|~��_�j���,Y�\u0003;�\u001b�x�4at�)�tyl#�OwΧ\u0011�ȢE�R�RI���k�_#�O�ΞO#��\u0015W\\���jz��g��gϞ���jz���K�6B�t�|\u001a�~�?��4f̘��k��l[�zu�k��:�;���Pwϧ?�Ж-[Қ5kRJ)=���R���n��M�K.�$577�U�V�l{�\u0007R�RI��rK��̘1#��iÆ\r",
      ";�~��_�j�������N���g@6l�\u0010۷o�t�;�3&L�\u0010'�|�ζ�c�Ʃ��\u001a��sOlݺ�'��k�z>��ݱc����޷`��X�vm\\s�5\u0011\u0011�iӦH��*�F���O��Z?E\u0016,X\u0010�j5N?��v�5B�\u0014������3dȐ���{���'L�\u0010�j5\u0006\r",
      "\u001aT:�\u0011�;�S���ϢE��㎫��'L�\u0010�\u001c",
      "sL��O�M�6�;���Pwϧ֞^C\u0003\u0007\u000el�<*r�]w�W���w�}w�}�_�ɓ'�\u001f��vǾ����\u0003\u000f�7���hnn��>k֬hnn�p|w�Z\u00009�sbĈ\u00111dȐ�6mZ,Y���1O<�DL�:�M��?��شiS<��s=��^�;�\u0013�����\u0017�\u0010#F��aÆ�̙3c���=��|��Ĉ\u0011#�\u0017^��\u000e:(�\u000f\u001f\u001e",
      "#F��o}�[�y��v�6B�t�|\"���j۶mq�\u001d",
      "wđG\u001e",
      "��7�6B��+�\u0013�����sύ����y�\u0017O=�T�Z�*n��������K/��C���m�����D���ټys�\u0019\f",
      "\u001b6,�l�\u0012�<�L���{\r",
      "u�|\"�\r",
      "�z饗b�ڵmޮ\u001f�NMt�٠��~:�m�\u0016���'��\u0007\u000e\u001c",
      "\u0018S�L���\u0016e�\f",
      "ȠA��SN��?>Ǝ\u001d",
      "\u001bK�.�������>\u001e",
      "~��8��JǮ^�:�9�6��K~饗�C\u000e鱽�Н�\u00196lX�s�9q��ƈ\u0011#bɒ%��,�<��hii�K�{��>�n�\u001a3gΌ\u000b",
      ".� �͛\u0017\u000b",
      "\u0017.�\u001bn�!֯_\u001f\u000b",
      "\u0016,(\u001d",
      "�\b�ӝ�i���՟�������\u0017g�yf�}\u001b�~vՕ�i���g�}bѢEq�\t'��\u001f\u001e",
      "\u0011����+��9s�;�\u0011�;��\b��},\u001e",
      "}��H)E�R����[��c�=\u0016\u0011？�=����{>�PC�Z�(H�g�&N�\u0018���jlݺ5\u0006\u000e\u001c",
      "X:�R���_�h����]��\u001b�:i���iذaiƌ\u0019��kjjJ����۴?���R��{��ث:{>E\u0016-Z���j��Kz`g�����Z�����/�8U�մ|��ұ�P?�9�\"��~vu�駧��\u0007�W_}�þ�P?����\u0014�o��f͚4y��4y��t뭷���;����Z�������m�����\u0014�o�s��7�j���>��t�����O��N;-\r",
      "\u001e",
      "<8U�մ`��v���\u001a���\u0014�\u000f5T�\u0019���\u001f�R��;͘+��2U�մ~���y��ߦj�������6k֬4jԨ�o�\u001d",
      "}�{@����9sf���m���C�\u000e-|\u001b��o�\u001d",
      "�J���������\u00149��#�3��L<��\u0003=���Z����7���8�H)�#�<����^?�9�\"��~jmܸ1���?����cԨQ\u001d",
      "�o������)���gΜ9��/�",
      "\u000b",
      "��sύ�N:)n�喘={v|��ߏ�^{�tl#�OwΧH���.�(~�\u001f��~��8�C��\u000e����?q��GD�����\u001d",
      "��k���S���P�֟wYM��ٝ�=]O}\"�DD|�C\u001f�-[�����'N�X�w�[���g�\u001e",
      "�_o����7��W_�]���3\u001e",
      "?~|]{뇵��\u001f�F���O��T?����x뭷:����ƨ�Z]=�2��~\u001e",
      "z�8���ۼe��\u0013O�M�6����F���O��T?\u0011\u0011s�΍5k�ĢE��_��W<��c;����ɓ�\u001d",
      "�\b5ԝ�)��j�U��&F�\u001e",
      "]�����)���=]O}&��X�\"�\f",
      "\u0019�n2eJ����i��Gcذa�]�{�ΜO����1nܸ\u001e",
      "�U~�\u001f�����/��RDD���\b�ӝ�)ӟ�ւ\u0005\u000b",
      "b����կ~�S�\u001b�~ju�|���ٺuk�_&l��C۶m+\u001d",
      "�\b�ӝ�)ӟ��ȑ#�s�����k�����\u000f~0\u000e:�v�5B\r",
      "E�����5\u0014�N�\u001c",
      "7n\\<���m�-^�8�L����C\u000f=4\u0006\f",
      "\u0018�f�֭[��'��p|���\u001b�\n",
      "���+mڞ|��4hРt��'�l[�zuZ�lYڶm�ζ�o�=U�պ��h�\u001b�g�qF�n<��O��{�7U*���}�g6��\u0013O<�*�J:묳��O?��4hР�z��R��OwΧ\u0011��+���\u0006\u000e\u001c",
      "��>����Z?�v�|\u001a�~�:�4dȐ����׵�t�Ii��\u0001\r",
      "���;��\b�S����}�T*��믯ko�\u001a�UWΧ����~\u000f�/�˺�˖-K+W��kk�{@����N�e\u000f ӦMK'�pB��k�-�ܒ.����ܜF�\u001e",
      "��-[����ٳS�RI���w�m߾=\u001d",
      "q�\u0011iĈ\u0011iΜ9i�����C\u000fM#G�L�=�\\�[�\u0011�9�\u0003\u000f<0�z���k�M���/҅\u0017^�\u0006\u000e\u001c",
      "�&M��֮]�\u001b��#�;�T�V�i����ϟ������j��~��\u001f��Ө����O��OJ)�x��~�R#�OJ�w>�P?O=�T\u001a:th\u001a?~|�;wn�?~�1cF�V�颋.�ٯQ�;��\b�����=\u001d",
      "w�q��k�M��zk:���Ӏ\u0001\u0003�\t'���o�^׷\u0011k�����j覛nJW_}u��KR�RI_�����W_�������\u001bo��Rz�\u0017Ҹq��\u0001\u0007\u001c",
      "�n�����$�\u001e",
      "=:M�2%mٲ�n�J���=�غ����4t��4u��t��7�+��\"\r",
      "\u001d",
      ":t���QWe\u000f 7�xc��g?�Ǝ\u001d",
      "�\u0006\r",
      "\u001a���w�4{��bŊ�~g�}vjjj�+��Rz����\u0005\u0017\\�ƍ\u001b��\u000f\u001f��M��ZZZr�B������G?JS�NM�F�J�\u0007\u000fN�&MJ���w��'^{�mۖ�̙�>򑏤��\u0007�ɓ'�\u001bn���O��OJ�>�R?)�t�\u0011G��\u0013'�\u001d",
      ";v\u0014^o��Ii�ΧQ�g���iƌ\u0019i�ȑi���頃\u000eJ��ͫ{��������\b��bŊ4}����{��C���\u000f>8]{�i�֭m�6b\r",
      "u�|�[\r",
      "M�4)U���j�{�ҥi���i���i���i֬Y��\\�VӴi�ڴ?��C騣�JÆ\r",
      "K�ǏO���w���HO���\u001b_�\f",
      "\u0000\u0000�\u001b�̇�\u0001\u0000��O\u0000\u0001\u0000\u0000�\u0011@\u0000\u0000�l\u0004\u0010\u0000\u0000 \u001b\u0001\u0004\u0000\u0000�F\u0000\u0001\u0000\u0000�\u0011@\u0000\u0000�l\u0004\u0010\u0000\u0000 \u001b\u0001\u0004\u0000\u0000�F\u0000\u0001\u0000\u0000�\u0011@\u0000\u0000�l\u0004\u0010\u0000\u0000 \u001b\u0001\u0004\u0000\u0000�F\u0000\u0001\u0000\u0000�\u0011@\u0000\u0000�l\u0004\u0010\u0000\u0000 \u001b\u0001\u0004\u0000\u0000�F\u0000\u0001\u0000\u0000�\u0011@\u0000\u0000�l\u0004\u0010\u0000\u0000 \u001b\u0001\u0004\u0000\u0000�F\u0000\u0001\u0000\u0000�\u0011@\u0000\u0000�l\u0004\u0010\u0000\u0000 \u001b\u0001\u0004\u0000\u0000�F\u0000\u0001\u0000\u0000�\u0011@\u0000\u0000�l\u0004\u0010\u0000\u0000 \u001b\u0001\u0004\u0000\u0000�F\u0000\u0001\u0000\u0000�\u0011@\u0000\u0000�l\u0004\u0010\u0000\u0000 \u001b\u0001\u0004\u0000\u0000�F\u0000\u0001\u0000\u0000�\u0011@\u0000\u0000�l\u0004\u0010\u0000\u0000 \u001b\u0001\u0004\u0000\u0000�F\u0000\u0001\u0000\u0000�\u0011@\u0000\u0000�l\u0004\u0010\u0000\u0000 \u001b\u0001\u0004\u0000\u0000�F\u0000\u0001\u0000\u0000�\u0011@\u0000\u0000�l\u0004\u0010\u0000\u0000 \u001b\u0001\u0004\u0000\u0000�F\u0000\u0001\u0000\u0000�\u0011@\u0000\u0000�l\u0004\u0010\u0000\u0000 \u001b\u0001\u0004\u0000\u0000�F\u0000\u0001\u0000\u0000�\u0011@\u0000\u0000�l\u0004\u0010\u0000\u0000 \u001b\u0001\u0004\u0000\u0000�F\u0000\u0001\u0000\u0000�\u0011@\u0000\u0000�l\u0004\u0010\u0000\u0000 \u001b\u0001\u0004\u0000\u0000�F\u0000\u0001\u0000\u0000�\u0011@\u0000\u0000�l\u0004\u0010\u0000\u0000 \u001b\u0001\u0004\u0000\u0000�F\u0000\u0001\u0000\u0000�\u0011@\u0000\u0000�l\u0004\u0010\u0000\u0000 \u001b\u0001\u0004\u0000\u0000�F\u0000\u0001\u0000\u0000�\u0011@\u0000\u0000�l\u0004\u0010\u0000\u0000 \u001b\u0001\u0004\u0000\u0000�F\u0000\u0001\u0000\u0000�\u0011@\u0000\u0000�l\u0004\u0010\u0000\u0000 \u001b\u0001\u0004\u0000\u0000�F\u0000\u0001\u0000\u0000�\u0011@\u0000\u0000�l\u0004\u0010\u0000\u0000 \u001b\u0001\u0004\u0000\u0000�F\u0000\u0001\u0000\u0000�\u0011@\u0000\u0000�l\u0004\u0010\u0000\u0000 \u001b\u0001\u0004\u0000\u0000�F\u0000\u0001\u0000\u0000�\u0011@\u0000\u0000�l\u0004\u0010\u0000\u0000 \u001b\u0001\u0004\u0000\u0000�F\u0000\u0001\u0000\u0000�\u0011@\u0000\u0000�l\u0004\u0010\u0000\u0000 \u001b\u0001\u0004\u0000\u0000�F\u0000\u0001\u0000\u0000�\u0011@\u0000\u0000�l\u0004\u0010\u0000\u0000 \u001b\u0001\u0004\u0000\u0000�F\u0000\u0001\u0000\u0000�\u0011@\u0000\u0000�l\u0004\u0010\u0000\u0000 \u001b\u0001\u0004\u0000\u0000�F\u0000\u0001\u0000\u0000�\u0011@\u0000\u0000�l\u0004\u0010\u0000\u0000 \u001b\u0001\u0004\u0000\u0000�F\u0000\u0001\u0000\u0000�\u0011@\u0000\u0000�l\u0004\u0010\u0000\u0000 \u001b\u0001\u0004\u0000\u0000�F\u0000\u0001\u0000\u0000�\u0011@\u0000\u0000�l\u0004\u0010\u0000\u0000 \u001b\u0001\u0004\u0000\u0000�F\u0000\u0001\u0000\u0000�\u0011@\u0000\u0000�l\u0004\u0010\u0000\u0000 \u001b\u0001\u0004\u0000\u0000�F\u0000\u0001\u0000\u0000�\u0011@\u0000\u0000�l\u0004\u0010\u0000\u0000 \u001b\u0001\u0004\u0000\u0000�F\u0000\u0001\u0000\u0000�\u0011@\u0000\u0000�l\u0004\u0010\u0000\u0000 \u001b\u0001\u0004\u0000\u0000�F\u0000\u0001\u0000\u0000�\u0011@\u0000\u0000�l\u0004\u0010\u0000\u0000 \u001b\u0001\u0004\u0000\u0000�F\u0000\u0001\u0000\u0000�\u0011@\u0000\u0000�l\u0004\u0010\u0000\u0000 \u001b\u0001\u0004\u0000\u0000�F\u0000\u0001\u0000\u0000�\u0011@\u0000\u0000�l\u0004\u0010\u0000\u0000 \u001b\u0001\u0004\u0000\u0000�F\u0000\u0001\u0000\u0000�\u0011@\u0000\u0000�l\u0004\u0010\u0000\u0000 \u001b\u0001\u0004\u0000\u0000�F\u0000\u0001\u0000\u0000�\u0011@\u0000\u0000�l\u0004\u0010\u0000\u0000 \u001b\u0001\u0004\u0000\u0000�F\u0000\u0001\u0000\u0000�\u0011@\u0000\u0000�l\u0004\u0010\u0000\u0000 \u001b\u0001\u0004\u0000\u0000�F\u0000\u0001\u0000\u0000�\u0011@\u0000\u0000�l\u0004\u0010\u0000\u0000 \u001b\u0001\u0004\u0000\u0000�F\u0000\u0001\u0000\u0000�\u0011@\u0000\u0000�l\u0004\u0010\u0000\u0000 \u001b\u0001\u0004\u0000\u0000�F\u0000\u0001\u0000\u0000�\u0011@\u0000\u0000�l\u0004\u0010\u0000\u0000 \u001b\u0001\u0004\u0000\u0000�F\u0000\u0001\u0000\u0000�\u0011@\u0000\u0000�l\u0004\u0010\u0000\u0000 \u001b\u0001\u0004\u0000\u0000�F\u0000\u0001\u0000\u0000�\u0011@\u0000\u0000�l\u0004\u0010\u0000\u0000 \u001b\u0001\u0004\u0000\u0000�F\u0000\u0001\u0000\u0000�\u0011@\u0000\u0000�l\u0004\u0010\u0000\u0000 \u001b\u0001\u0004\u0000\u0000�F\u0000\u0001\u0000\u0000�\u0011@\u0000\u0000�l\u0004\u0010\u0000\u0000 \u001b\u0001\u0004\u0000\u0000�F\u0000\u0001\u0000\u0000�\u0011@\u0000\u0000�l\u0004\u0010\u0000\u0000 \u001b\u0001\u0004\u0000\u0000�F\u0000\u0001\u0000\u0000�\u0011@\u0000\u0000�l\u0004\u0010\u0000\u0000 \u001b\u0001\u0004\u0000\u0000�F\u0000\u0001\u0000\u0000�\u0011@\u0000\u0000�l\u0004\u0010\u0000\u0000 \u001b\u0001\u0004\u0000\u0000�F\u0000\u0001\u0000\u0000�\u0011@\u0000\u0000�l\u0004\u0010\u0000\u0000 \u001b\u0001\u0004\u0000\u0000�F\u0000\u0001\u0000\u0000�\u0011@\u0000\u0000�l\u0004\u0010\u0000\u0000 \u001b\u0001\u0004\u0000\u0000�F\u0000\u0001\u0000\u0000�\u0011@\u0000\u0000�l\u0004\u0010\u0000\u0000 \u001b\u0001\u0004\u0000\u0000�F\u0000\u0001\u0000\u0000�\u0011@\u0000\u0000�l\u0004\u0010\u0000\u0000 \u001b\u0001\u0004\u0000\u0000�F\u0000\u0001\u0000\u0000�\u0011@\u0000\u0000�l\u0004\u0010\u0000\u0000 \u001b\u0001\u0004\u0000\u0000�F\u0000\u0001\u0000\u0000�\u0011@\u0000\u0000�l\u0004\u0010\u0000\u0000 \u001b\u0001\u0004\u0000\u0000�F\u0000\u0001\u0000\u0000�\u0011@\u0000\u0000�l\u0004\u0010\u0000\u0000 \u001b\u0001\u0004\u0000\u0000�F\u0000\u0001\u0000\u0000�\u0011@\u0000\u0000�l\u0004\u0010\u0000\u0000 \u001b\u0001\u0004\u0000\u0000�F\u0000\u0001\u0000\u0000�\u0011@\u0000\u0000�l�?j�\u0015$|\u001d",
      "�\u0000\u0000\u0000\u0000IEND�B`�\n"
     ]
    },
    {
     "data": {
      "image/png": "[encoded data removed]",
      "text/plain": [
       "<IPython.core.display.Image object>"
      ]
     },
     "execution_count": 18,
     "metadata": {},
     "output_type": "execute_result"
    }
   ],
   "source": [
    "\n",
    "from matplotlib import pyplot\n",
    "import matplotlib as mpl\n",
    "\n",
    "# Make a figure and axes with dimensions as desired.\n",
    "fig = pyplot.figure(figsize=(8, 3))\n",
    "ax1 = fig.add_axes([0.05, 0.80, 0.9, 0.15])\n",
    "\n",
    "# Set the colormap and norm to correspond to the data for which\n",
    "# the colorbar will be used.\n",
    "cmap = mpl.cm.viridis\n",
    "norm = mpl.colors.Normalize(vmin=5, vmax=10)\n",
    "\n",
    "# ColorbarBase derives from ScalarMappable and puts a colorbar\n",
    "# in a specified axes, so it has everything needed for a\n",
    "# standalone colorbar.  There are many more kwargs, but the\n",
    "# following gives a basic continuous colorbar with ticks\n",
    "# and labels.\n",
    "cb1 = mpl.colorbar.ColorbarBase(ax1, cmap=cmap,\n",
    "                                norm=norm,\n",
    "                                orientation='horizontal')\n",
    "#cb1.set_label('Some Units')\n",
    "from IPython.display import display, display_png, Image\n",
    "from cStringIO import StringIO\n",
    "data = StringIO()\n",
    "fig.savefig(data, format=\"png\")\n",
    "Image(data=data.getvalue())\n",
    "#mpl.pyplot.show()"
   ]
  },
  {
   "cell_type": "code",
   "execution_count": 2,
   "metadata": {
    "collapsed": false
   },
   "outputs": [],
   "source": [
    "from ipywidgets import widgets\n",
    "from IPython.display import display\n",
    "first = widgets.Text(description=\"First:\")\n",
    "last = widgets.Text(description=\"Last:\")\n",
    "last._dom_classes = [\"test\"]\n",
    "last._css = [('.test', 'position', 'absolute'),\n",
    "             ('.test', 'top', '0px'),\n",
    "             ('.test', 'right', '0px'),]\n",
    "\n",
    "form = widgets.Box(children=[first, last])\n",
    "form._dom_classes = [\"test2\"]\n",
    "form._css = [('.test2', 'position', 'relative')]\n",
    "\n",
    "display(form)\n"
   ]
  },
  {
   "cell_type": "code",
   "execution_count": 13,
   "metadata": {
    "collapsed": false
   },
   "outputs": [
    {
     "data": {
      "text/plain": [
       "'4.1.0'"
      ]
     },
     "execution_count": 13,
     "metadata": {},
     "output_type": "execute_result"
    }
   ],
   "source": [
    "import ipywidgets\n",
    "ipywidgets.__version__"
   ]
  },
  {
   "cell_type": "code",
   "execution_count": null,
   "metadata": {
    "collapsed": true
   },
   "outputs": [],
   "source": []
  },
  {
   "cell_type": "code",
   "execution_count": null,
   "metadata": {
    "collapsed": true
   },
   "outputs": [],
   "source": []
  },
  {
   "cell_type": "code",
   "execution_count": null,
   "metadata": {
    "collapsed": true
   },
   "outputs": [],
   "source": []
  }
 ],
 "metadata": {
  "kernelspec": {
   "display_name": "Python 2",
   "language": "python",
   "name": "python2"
  },
  "language_info": {
   "codemirror_mode": {
    "name": "ipython",
    "version": 2
   },
   "file_extension": ".py",
   "mimetype": "text/x-python",
   "name": "python",
   "nbconvert_exporter": "python",
   "pygments_lexer": "ipython2",
   "version": "2.7.10"
  }
 },
 "nbformat": 4,
 "nbformat_minor": 0
}
