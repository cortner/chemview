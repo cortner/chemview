{
 "cells": [
  {
   "cell_type": "code",
   "execution_count": 4,
   "metadata": {
    "collapsed": false,
    "id": "test1"
   },
   "outputs": [],
   "source": [
    "# Test to check that box works well\n",
    "import numpy as np\n",
    "import chemview\n",
    "import time\n",
    "\n",
    "from chemview.widget import Layout, RepresentationViewer, TrajectoryControls\n",
    "from IPython.display import display, HTML\n",
    "chemview.enable_notebook()\n",
    "\n",
    "coordinates = np.array([[0.0, 1.1, 0.1], [1, 0, 0]], 'float32')\n",
    "colors = [0xFFFFFF, 0xFF999F]\n",
    "sizes = [1.0, 2.0]\n",
    "\n",
    "rv = RepresentationViewer(300, 300)\n",
    "point_id = rv.add_representation('points', {'coordinates': coordinates, 'colors': colors, 'sizes': sizes})\n",
    "tc = TrajectoryControls(10)\n",
    "\n",
    "Layout(children=(rv,tc))"
   ]
  },
  {
   "cell_type": "code",
   "execution_count": null,
   "metadata": {
    "collapsed": true
   },
   "outputs": [],
   "source": []
  }
 ],
 "metadata": {
  "kernelspec": {
   "display_name": "Python 2",
   "language": "python",
   "name": "python2"
  },
  "language_info": {
   "codemirror_mode": {
    "name": "ipython",
    "version": 2
   },
   "file_extension": ".py",
   "mimetype": "text/x-python",
   "name": "python",
   "nbconvert_exporter": "python",
   "pygments_lexer": "ipython2",
   "version": "2.7.10"
  }
 },
 "nbformat": 4,
 "nbformat_minor": 0
}
