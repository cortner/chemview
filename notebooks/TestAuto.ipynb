{
 "cells": [
  {
   "cell_type": "code",
   "execution_count": 2,
   "metadata": {
    "collapsed": false,
    "id": "test1"
   },
   "outputs": [],
   "source": [
    "# Test to check that box works well\n",
    "import numpy as np\n",
    "import chemview\n",
    "import time\n",
    "\n",
    "from chemview.widget import Layout, RepresentationViewer, TrajectoryControls\n",
    "from IPython.display import display, HTML\n",
    "chemview.enable_notebook()\n",
    "\n",
    "coordinates = np.array([[0.0, 1.1, 0.1], [1, 0, 0]], 'float32')\n",
    "colors = [0xFFFFFF, 0xFF999F]\n",
    "sizes = [1.0, 2.0]\n",
    "\n",
    "rv = RepresentationViewer(300, 300)\n",
    "point_id = rv.add_representation('points', {'coordinates': coordinates, 'colors': colors, 'sizes': sizes})\n",
    "tc = TrajectoryControls(10)\n",
    "from ipywidgets import jsdlink, VBox\n",
    "\n",
    "jsdlink((rv, \"width\"), (tc, \"width\"))\n",
    "Layout(children=(rv,tc))"
   ]
  },
  {
   "cell_type": "code",
   "execution_count": 25,
   "metadata": {
    "collapsed": false
   },
   "outputs": [
    {
     "data": {
      "text/plain": [
       "300"
      ]
     },
     "execution_count": 25,
     "metadata": {},
     "output_type": "execute_result"
    }
   ],
   "source": [
    "rv.width"
   ]
  },
  {
   "cell_type": "code",
   "execution_count": 2,
   "metadata": {
    "collapsed": false
   },
   "outputs": [
    {
     "name": "stdout",
     "output_type": "stream",
     "text": [
      "Fetching package metadata: ....\n",
      "Solving package specifications: ................................\n",
      "Package plan for installation in environment /home/ubuntu/miniconda:\n",
      "\n",
      "The following packages will be downloaded:\n",
      "\n",
      "    package                    |            build\n",
      "    ---------------------------|-----------------\n",
      "    ipywidgets-4.1.0           |           py27_0          98 KB  defaults\n",
      "\n",
      "The following NEW packages will be INSTALLED:\n",
      "\n",
      "    ipywidgets: 4.1.0-py27_0 defaults\n",
      "\n",
      "Fetching packages ...\n",
      "ipywidgets-4.1 100% |################################| Time: 0:00:00 373.68 kB/s\n",
      "Extracting packages ...\n",
      "[      COMPLETE      ]|###################################################| 100%\n",
      "Linking packages ...\n",
      "[      COMPLETE      ]|###################################################| 100%\n"
     ]
    }
   ],
   "source": [
    "!conda install -y ipywidgets"
   ]
  },
  {
   "cell_type": "code",
   "execution_count": null,
   "metadata": {
    "collapsed": true
   },
   "outputs": [],
   "source": []
  }
 ],
 "metadata": {
  "kernelspec": {
   "display_name": "Python 2",
   "language": "python",
   "name": "python2"
  },
  "language_info": {
   "codemirror_mode": {
    "name": "ipython",
    "version": 2
   },
   "file_extension": ".py",
   "mimetype": "text/x-python",
   "name": "python",
   "nbconvert_exporter": "python",
   "pygments_lexer": "ipython2",
   "version": "2.7.10"
  }
 },
 "nbformat": 4,
 "nbformat_minor": 0
}
