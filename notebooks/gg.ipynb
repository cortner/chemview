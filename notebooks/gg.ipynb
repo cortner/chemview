{
 "cells": [
  {
   "cell_type": "code",
   "execution_count": 6,
   "metadata": {
    "collapsed": false
   },
   "outputs": [],
   "source": [
    "from chemview.gg import *\n",
    "from chemview.viewer import RepresentationViewer\n",
    "from chemview.install import enable_notebook\n",
    "enable_notebook()"
   ]
  },
  {
   "cell_type": "code",
   "execution_count": 7,
   "metadata": {
    "collapsed": false
   },
   "outputs": [],
   "source": [
    "import numpy as np\n",
    "gg = ggview(Aes(xyz=[[0.0, 0.0, 0.0],\n",
    "                     [0.0, 0.0, 0.3],\n",
    "                     [0.0, 0.0, 0.4],\n",
    "                     [0.0, 0.0, 0.5],\n",
    "                     [0.0, 0.0, 0.6],\n",
    "                     [0.0, 0.0, 0.7]], \n",
    "                colors=[0.0, 0.1, 0.2, 0.3, 0.5, 0.6],\n",
    "                visible=np.array([False, True, True, False, True, True])))\n",
    "gg += GeomPoints()"
   ]
  },
  {
   "cell_type": "code",
   "execution_count": 8,
   "metadata": {
    "collapsed": false
   },
   "outputs": [
    {
     "name": "stdout",
     "output_type": "stream",
     "text": [
      "[{'type': 'points', 'rep_id': '54d5f80a7e9011e59aa4e06995fb4a8b', 'options': {'visible': array([False,  True,  True, False,  True,  True], dtype=bool), 'colors': [16777177, 14742449, 9950904, 4240835, 2376090, 531800], 'coordinates': [[0.0, 0.0, 0.0], [0.0, 0.0, 0.3], [0.0, 0.0, 0.4], [0.0, 0.0, 0.5], [0.0, 0.0, 0.6], [0.0, 0.0, 0.7]], 'sizes': [1.0, 1.0, 1.0, 1.0, 1.0, 1.0]}}]\n"
     ]
    }
   ],
   "source": [
    "print gg.primitives"
   ]
  },
  {
   "cell_type": "code",
   "execution_count": 9,
   "metadata": {
    "collapsed": false
   },
   "outputs": [],
   "source": [
    "rv = RepresentationViewer()\n",
    "rv.from_scene({\"representations\": gg.primitives})\n",
    "rv"
   ]
  },
  {
   "cell_type": "code",
   "execution_count": 10,
   "metadata": {
    "collapsed": false
   },
   "outputs": [
    {
     "ename": "NameError",
     "evalue": "name 'ggtraj' is not defined",
     "output_type": "error",
     "traceback": [
      "\u001b[1;31m---------------------------------------------------------------------------\u001b[0m",
      "\u001b[1;31mNameError\u001b[0m                                 Traceback (most recent call last)",
      "\u001b[1;32m<ipython-input-10-e0ca25e79947>\u001b[0m in \u001b[0;36m<module>\u001b[1;34m()\u001b[0m\n\u001b[0;32m      1\u001b[0m \u001b[0mxyz\u001b[0m \u001b[1;33m=\u001b[0m \u001b[0mnp\u001b[0m\u001b[1;33m.\u001b[0m\u001b[0mrandom\u001b[0m\u001b[1;33m.\u001b[0m\u001b[0mrand\u001b[0m\u001b[1;33m(\u001b[0m\u001b[1;36m10\u001b[0m\u001b[1;33m,\u001b[0m \u001b[1;36m10\u001b[0m\u001b[1;33m,\u001b[0m \u001b[1;36m3\u001b[0m\u001b[1;33m)\u001b[0m\u001b[1;33m\u001b[0m\u001b[0m\n\u001b[1;32m----> 2\u001b[1;33m \u001b[0mgg\u001b[0m \u001b[1;33m=\u001b[0m \u001b[0mggtraj\u001b[0m\u001b[1;33m(\u001b[0m\u001b[0mAes\u001b[0m\u001b[1;33m(\u001b[0m\u001b[0mxyz_traj\u001b[0m\u001b[1;33m=\u001b[0m\u001b[0mxyz\u001b[0m\u001b[1;33m)\u001b[0m\u001b[1;33m)\u001b[0m \u001b[1;33m+\u001b[0m \u001b[0mGeomPoints\u001b[0m\u001b[1;33m(\u001b[0m\u001b[1;33m)\u001b[0m\u001b[1;33m\u001b[0m\u001b[0m\n\u001b[0m",
      "\u001b[1;31mNameError\u001b[0m: name 'ggtraj' is not defined"
     ]
    }
   ],
   "source": []
  },
  {
   "cell_type": "code",
   "execution_count": null,
   "metadata": {
    "collapsed": true
   },
   "outputs": [],
   "source": []
  }
 ],
 "metadata": {
  "kernelspec": {
   "display_name": "Python 2",
   "language": "python",
   "name": "python2"
  },
  "language_info": {
   "codemirror_mode": {
    "name": "ipython",
    "version": 2
   },
   "file_extension": ".py",
   "mimetype": "text/x-python",
   "name": "python",
   "nbconvert_exporter": "python",
   "pygments_lexer": "ipython2",
   "version": "2.7.10"
  }
 },
 "nbformat": 4,
 "nbformat_minor": 0
}
