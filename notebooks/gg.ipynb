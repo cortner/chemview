{
 "cells": [
  {
   "cell_type": "code",
   "execution_count": 1,
   "metadata": {
    "collapsed": false
   },
   "outputs": [],
   "source": [
    "from chemview.gg import *\n",
    "from chemview.viewer import RepresentationViewer\n",
    "from chemview.install import enable_notebook\n",
    "import numpy as np\n",
    "enable_notebook()"
   ]
  },
  {
   "cell_type": "code",
   "execution_count": 3,
   "metadata": {
    "collapsed": false
   },
   "outputs": [],
   "source": [
    "from chemlab.io import datafile\n",
    "system = datafile('../tests/data/pdb1g8p.ent', format='pdb').read('system')\n",
    "\n",
    "cartoon = GeomProteinCartoon(Aes(xyz=system.r_array, \n",
    "                                 types=system.atom_name,\n",
    "                                 secondary_id=system.secondary_id,\n",
    "                                 secondary_type=system.secondary_structure))\n",
    "\n",
    "gg = ggview(Aes()) + cartoon\n",
    "gg.display()"
   ]
  },
  {
   "cell_type": "code",
   "execution_count": 1,
   "metadata": {
    "collapsed": false
   },
   "outputs": [
    {
     "name": "stdout",
     "output_type": "stream",
     "text": [
      "HDF backend is not available because pytables is not installed\n",
      "cclib not found. Install cclib for more handlers.\n",
      "['C' 'C' 'C' 'C' 'H' 'H' 'H' 'H' 'H' 'C' 'C' 'H' 'H' 'H' 'H' 'H' 'H' 'H'\n",
      " 'H' 'H' 'H' 'H' 'H' 'H' 'H' 'H' 'H' 'H' 'H' 'C' 'S' 'S' 'S' 'S' 'C' 'H'\n",
      " 'H' 'H' 'H' 'H' 'C' 'H' 'H' 'H' 'H' 'H' 'H' 'H' 'H' 'H' 'H' 'H' 'C' 'C'\n",
      " 'S' 'S' 'S' 'S' 'C' 'C' 'C' 'C' 'C' 'C' 'C' 'C' 'H' 'H' 'H' 'H' 'H' 'C'\n",
      " 'C' 'C' 'C' 'C' 'C' 'C' 'C' 'C' 'C' 'S' 'S' 'S' 'S' 'C' 'C' 'C' 'S' 'S'\n",
      " 'S' 'S' 'C' 'C' 'C' 'C' 'H' 'H' 'H' 'H' 'H' 'H' 'H' 'S' 'S' 'H' 'H' 'H'\n",
      " 'H' 'H' 'H' 'H' 'H' 'H' 'C' 'C' 'C' 'S' 'S' 'C' 'H' 'H' 'H' 'H' 'H' 'H'\n",
      " 'H' 'C' 'S' 'S' 'S' 'S' 'S' 'C' 'H' 'H' 'H' 'H' 'H' 'H' 'H' 'H' 'H' 'H'\n",
      " 'H' 'H' 'H' 'H' 'H' 'H' 'H' 'H' 'H' 'H' 'S' 'S' 'S' 'S' 'C' 'C' 'C' 'C'\n",
      " 'C' 'C' 'S' 'S' 'S' 'S' 'C' 'C' 'S' 'S' 'S' 'S' 'S' 'S' 'S' 'C' 'C' 'C'\n",
      " 'C' 'C' 'C' 'C' 'H' 'H' 'H' 'H' 'H' 'H' 'C' 'C' 'C' 'S' 'S' 'S' 'S' 'C'\n",
      " 'C' 'C' 'C' 'C' 'H' 'H' 'H' 'H' 'H' 'H' 'H' 'H' 'H' 'H' 'H' 'H' 'H' 'H'\n",
      " 'H' 'H' 'H' 'H' 'H' 'H' 'H' 'H' 'H' 'H' 'H' 'H' 'H' 'H' 'H' 'H' 'H' 'H'\n",
      " 'H' 'H' 'H' 'H' 'H' 'H' 'H' 'H' 'H' 'H' 'H' 'H' 'H' 'H' 'H' 'C' 'C' 'H'\n",
      " 'H' 'H' 'H' 'H' 'H' 'H' 'H' 'H' 'H' 'H' 'H' 'H' 'H' 'H' 'C' 'C' 'C' 'H'\n",
      " 'H' 'H' 'H' 'H' 'H' 'H' 'H' 'H' 'H' 'H' 'H' 'H' 'H' 'H' 'H' 'H' 'H' 'H'\n",
      " 'C' 'C' 'C' 'C' 'C' 'H' 'H' 'H' 'H' 'H' 'H' 'H' 'H' 'H' 'H' 'H' 'H' 'H'\n",
      " 'H' 'H' 'H' 'H' 'C' 'H' 'H' 'H' 'H' 'H' 'H' 'H' 'H' 'H' 'C' 'C' 'C' 'C'\n",
      " 'C' 'C' 'C' 'C' 'C' 'C' 'C' 'C' 'C' 'C' 'C' 'C' 'C' 'C' 'C' 'C' 'C' 'C'\n",
      " 'C' 'C' 'C' 'C' 'C' 'C' 'C' 'C' 'C' 'C' 'C' 'C' 'C' 'C' 'C' 'C' 'C' 'C'\n",
      " 'C' 'C' 'C' 'C' 'C' 'C' 'C' 'C' 'C' 'C' 'C' 'C' 'C' 'C' 'C' 'C' 'C' 'C'\n",
      " 'C' 'C' 'C' 'C' 'C' 'C' 'C' 'C' 'C' 'C' 'C' 'C' 'C' 'C' 'C' 'C' 'C' 'C'\n",
      " 'C' 'C' 'C' 'C' 'C' 'C' 'C' 'C' 'C' 'C' 'C' 'C' 'C' 'C' 'C' 'C' 'C' 'C'\n",
      " 'C' 'C' 'C' 'C' 'C' 'C' 'C' 'C' 'C' 'C' 'C' 'C' 'C' 'C' 'C' 'C' 'C' 'C'\n",
      " 'C' 'C' 'C' 'C' 'C' 'C' 'C' 'C' 'C' 'C' 'C' 'C' 'C' 'C' 'C' 'C' 'C' 'C'\n",
      " 'C' 'C' 'C' 'C' 'C' 'C' 'C' 'C' 'C' 'C' 'C' 'C' 'C' 'C' 'C' 'C' 'C' 'C'\n",
      " 'C' 'C' 'C' 'C' 'C' 'C' 'C' 'C' 'C' 'C' 'C' 'C' 'C' 'C' 'C' 'C' 'C' 'C'\n",
      " 'C' 'C' 'C' 'C' 'C' 'C' 'C' 'C' 'C' 'C' 'C' 'C' 'C' 'C' 'C' 'C' 'C' 'C'\n",
      " 'C' 'C' 'C' 'C' 'C' 'C' 'C' 'C' 'C' 'C' 'C' 'C' 'C' 'C' 'C' 'C' 'C' 'C'\n",
      " 'C' 'C' 'C' 'C' 'C' 'C' 'C' 'C' 'C' 'C' 'C' 'C' 'C' 'C' 'C' 'C' 'C']\n"
     ]
    },
    {
     "ename": "NameError",
     "evalue": "name 'ggview' is not defined",
     "output_type": "error",
     "traceback": [
      "\u001b[1;31m---------------------------------------------------------------------------\u001b[0m",
      "\u001b[1;31mNameError\u001b[0m                                 Traceback (most recent call last)",
      "\u001b[1;32m<ipython-input-1-8576b6d34cc3>\u001b[0m in \u001b[0;36m<module>\u001b[1;34m()\u001b[0m\n\u001b[0;32m      5\u001b[0m \u001b[0mprint\u001b[0m\u001b[1;33m(\u001b[0m\u001b[0msystem\u001b[0m\u001b[1;33m.\u001b[0m\u001b[0msecondary_structure\u001b[0m\u001b[1;33m)\u001b[0m\u001b[1;33m\u001b[0m\u001b[0m\n\u001b[0;32m      6\u001b[0m \u001b[1;33m\u001b[0m\u001b[0m\n\u001b[1;32m----> 7\u001b[1;33m \u001b[0mgg\u001b[0m \u001b[1;33m=\u001b[0m \u001b[0mggview\u001b[0m\u001b[1;33m(\u001b[0m\u001b[0mAes\u001b[0m\u001b[1;33m(\u001b[0m\u001b[1;33m)\u001b[0m\u001b[1;33m)\u001b[0m\u001b[1;33m\u001b[0m\u001b[0m\n\u001b[0m\u001b[0;32m      8\u001b[0m \u001b[0mall_secondary\u001b[0m \u001b[1;33m=\u001b[0m \u001b[0mmax\u001b[0m\u001b[1;33m(\u001b[0m\u001b[0msystem\u001b[0m\u001b[1;33m.\u001b[0m\u001b[0msecondary_id\u001b[0m\u001b[1;33m)\u001b[0m\u001b[1;33m\u001b[0m\u001b[0m\n\u001b[0;32m      9\u001b[0m \u001b[1;33m\u001b[0m\u001b[0m\n",
      "\u001b[1;31mNameError\u001b[0m: name 'ggview' is not defined"
     ]
    }
   ],
   "source": [
    "from chemlab.io import datafile\n",
    "from chemview.utils import beta_sheet_normals\n",
    "# enable_notebook()\n",
    "system = datafile('../tests/data/pdb1g8p.ent', format='pdb').read('system')\n",
    "print(system.secondary_structure)\n",
    "\n",
    "gg = ggview(Aes())\n",
    "all_secondary = max(system.secondary_id)\n",
    "\n",
    "for i in range(1, all_secondary + 1):\n",
    "    sheet = system.sub(secondary_id=i)\n",
    "    coordinates = sheet.sub(atom_name='CA').r_array\n",
    "    if sheet.secondary_structure[0] == 'S':\n",
    "        normals = beta_sheet_normals(sheet)\n",
    "        color = 0xccff33\n",
    "        gg + GeomRibbon(Aes(xyz=coordinates, normals=normals, \n",
    "                            resolution=16), color=color, width=0.2, arrow=True)\n",
    "    \n",
    "    elif sheet.secondary_structure[0] == 'H':\n",
    "        normals = alpha_helix_normals(sheet)\n",
    "        color = 0xff3333\n",
    "        gg + GeomRibbon(Aes(xyz=coordinates, normals=normals, \n",
    "                            resolution=16), color=color, width=0.2)\n",
    "        \n",
    "#     elif sheet.secondary_structure[0] == 'C':\n",
    "#         backbone = sheet.where(atom_name=['CA', 'N'])\n",
    "#         edges = np.array([list(range(0, backbone.n_atoms - 1)), \n",
    "#                           list(range(1, backbone.n_atoms))]).T\n",
    "#         gg + GeomLines(Aes(xyz=backbone.r_array, \n",
    "#                            edges=edges, \n",
    "#                            colors=[0xcccccc]*backbone.n_atoms))\n",
    "    \n",
    "\n",
    "\n",
    "# oxy = system.sub(atom_name='CA')\n",
    "# gg + GeomPoints(Aes(xyz=starts, colors=[0xff0000]* len(starts), sizes=[0.2]*len(starts)))\n",
    "# gg + GeomPoints(Aes(xyz=ends, colors=[0xff00ff]* len(starts), sizes=[0.2]*len(starts)))\n",
    "\n",
    "# edges = np.array([list(range(0, system.n_atoms - 1)), list(range(1, system.n_atoms))]).T\n",
    "# gg + GeomLines(Aes(xyz=system.sub(atom_name='CA').r_array, \n",
    "#                    edges=edges, colors=[0xcccc00]*system.n_atoms))\n",
    "gg.display()"
   ]
  },
  {
   "cell_type": "code",
   "execution_count": null,
   "metadata": {
    "collapsed": true
   },
   "outputs": [],
   "source": []
  },
  {
   "cell_type": "code",
   "execution_count": 2,
   "metadata": {
    "collapsed": false
   },
   "outputs": [
    {
     "name": "stderr",
     "output_type": "stream",
     "text": [
      "/home/gabriele/anaconda/envs/chemview/lib/python3.5/site-packages/matplotlib/__init__.py:1028: UserWarning: Illegal line #7\n",
      "\t\"xtick.direction = out\n",
      "\"\n",
      "\tin file \"/home/gabriele/.config/matplotlib/stylelib/paper.mplstyle\"\n",
      "  warnings.warn('Illegal %s' % error_details)\n",
      "/home/gabriele/anaconda/envs/chemview/lib/python3.5/site-packages/matplotlib/__init__.py:1028: UserWarning: Illegal line #14\n",
      "\t\"ytick.direction = out\n",
      "\"\n",
      "\tin file \"/home/gabriele/.config/matplotlib/stylelib/paper.mplstyle\"\n",
      "  warnings.warn('Illegal %s' % error_details)\n"
     ]
    },
    {
     "data": {
      "image/png": "[encoded data removed]",
      "text/plain": [
       "<IPython.core.display.Image object>"
      ]
     },
     "metadata": {},
     "output_type": "display_data"
    }
   ],
   "source": [
    "\n",
    "gg = ggview(Aes(xyz=[[0.0, 0.0, 0.0],\n",
    "                     [0.0, 0.0, 0.3],\n",
    "                     [0.0, 0.0, 0.4],\n",
    "                     [0.0, 0.0, 0.5],\n",
    "                     [0.0, 0.0, 0.6],\n",
    "                     [0.0, 0.0, 0.7]], \n",
    "                colors=[0.0, 0.1, 0.2, 0.3, 0.5, 0.6],\n",
    "                visible=np.array([False, True, True, False, True, True])))\n",
    "gg += GeomPoints() \n",
    "gg += ScaleColorsGradient(limits=[0.0, 0.6], palette='viridis')\n",
    "gg.display()"
   ]
  }
 ],
 "metadata": {
  "kernelspec": {
   "display_name": "Python 3",
   "language": "python",
   "name": "python3"
  },
  "language_info": {
   "codemirror_mode": {
    "name": "ipython",
    "version": 3
   },
   "file_extension": ".py",
   "mimetype": "text/x-python",
   "name": "python",
   "nbconvert_exporter": "python",
   "pygments_lexer": "ipython3",
   "version": "3.5.1"
  }
 },
 "nbformat": 4,
 "nbformat_minor": 0
}
