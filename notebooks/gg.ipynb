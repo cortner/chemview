{
 "cells": [
  {
   "cell_type": "code",
   "execution_count": 1,
   "metadata": {
    "collapsed": false
   },
   "outputs": [],
   "source": [
    "from chemview.gg import *\n",
    "from chemview.viewer import RepresentationViewer\n",
    "from chemview.install import enable_notebook\n",
    "import numpy as np\n",
    "enable_notebook()"
   ]
  },
  {
   "cell_type": "code",
   "execution_count": 4,
   "metadata": {
    "collapsed": false
   },
   "outputs": [],
   "source": [
    "from chemlab.io import datafile\n",
    "system = datafile('../tests/data/pdb1g8p.ent', format='pdb').read('system')\n",
    "water = system.sub(residue_name='HOH')\n",
    "\n",
    "cartoon = GeomProteinCartoon(Aes(types=system.atom_name,\n",
    "                                 secondary_id=system.secondary_id,\n",
    "                                 secondary_type=system.secondary_structure))\n",
    "points = GeomSpheres(Aes(xyz=water.r_array, sizes=0.1, colors=0xffff00))\n",
    "# lines = GeomLines(Aes(edges=system.bonds))\n",
    "gg = ggview(Aes(xyz=system.r_array)) + cartoon + points\n",
    "tv = gg.display()\n",
    "tv"
   ]
  },
  {
   "cell_type": "code",
   "execution_count": 40,
   "metadata": {
    "collapsed": false
   },
   "outputs": [],
   "source": [
    "gg = ggview(Aes(xyz=[[0.0, 0.0, 0.0],\n",
    "                     [0.0, 0.0, 0.3],\n",
    "                     [0.0, 0.0, 0.4],\n",
    "                     [0.0, 0.0, 0.5],\n",
    "                     [0.0, 0.0, 0.6],\n",
    "                     [0.0, 0.0, 0.7]], \n",
    "                colors=[0.0, 0.1, 0.2, 0.3, 0.5, 0.6],\n",
    "                visible=np.array([False, True, True, False, True, True])))\n",
    "gg += GeomPoints() \n",
    "gg += ScaleColorsGradient(limits=[0.0, 0.6], palette='viridis')\n",
    "gg.display()"
   ]
  }
 ],
 "metadata": {
  "celltoolbar": "Raw Cell Format",
  "kernelspec": {
   "display_name": "Python 3",
   "language": "python",
   "name": "python3"
  },
  "language_info": {
   "codemirror_mode": {
    "name": "ipython",
    "version": 3
   },
   "file_extension": ".py",
   "mimetype": "text/x-python",
   "name": "python",
   "nbconvert_exporter": "python",
   "pygments_lexer": "ipython3",
   "version": "3.5.1"
  }
 },
 "nbformat": 4,
 "nbformat_minor": 0
}
